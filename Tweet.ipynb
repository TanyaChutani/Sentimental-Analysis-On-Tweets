{
 "cells": [
  {
   "cell_type": "code",
   "execution_count": 14,
   "metadata": {},
   "outputs": [],
   "source": [
    "import tweepy\n",
    "import pandas as pd\n",
    "from credentials import *\n",
    "from IPython.display import display\n",
    "import re\n",
    "import nltk\n",
    "import matplotlib.pyplot as plt\n",
    "import gensim\n",
    "import numpy as np\n",
    "import spacy\n",
    "from textblob import TextBlob\n",
    "from gensim.models import CoherenceModel, LdaModel, LsiModel, HdpModel\n",
    "from gensim.models.wrappers import LdaMallet\n",
    "from gensim.corpora import Dictionary\n",
    "\n",
    "import os, re, operator, warnings"
   ]
  },
  {
   "cell_type": "code",
   "execution_count": 15,
   "metadata": {
    "collapsed": true
   },
   "outputs": [],
   "source": [
    "\n",
    "CONSUMER_KEY    = \"fbNBZZY1hpwtdEwwz7pQnHWo8\"\n",
    "CONSUMER_SECRET = \"ntH67Zh2KgzZsWyslivT7u6bebL46AU00r5IBNBNSh8H76H2M9\"\n",
    "\n",
    "# Access:\n",
    "ACCESS_TOKEN  = \"767714641-lXCZF6l4OGKSq4sBVdih5jcDpMh5C9Q755YbNrTv\"\n",
    "ACCESS_SECRET = \"uJS3aSeuIxop17PK7X724AG6M8UPEmHA0a0SLpyvrBYjI\"\n",
    "def twitter_setup():\n",
    "    auth = tweepy.OAuthHandler(CONSUMER_KEY, CONSUMER_SECRET)\n",
    "    auth.set_access_token(ACCESS_TOKEN, ACCESS_SECRET)\n",
    "\n",
    "    # Return API with authentication:\n",
    "    api = tweepy.API(auth)\n",
    "    return api"
   ]
  },
  {
   "cell_type": "code",
   "execution_count": 16,
   "metadata": {
    "scrolled": true
   },
   "outputs": [
    {
     "name": "stdout",
     "output_type": "stream",
     "text": [
      "Number of tweets extracted: 200.\n",
      "\n",
      "5 recent tweets:\n",
      "\n",
      "...Follow the money! The spy was there early in the campaign and yet never reported Collusion with Russia, because… https://t.co/gJGldziTWv\n",
      "If the person placed very early into my campaign wasn’t a SPY put there by the previous Administration for politica… https://t.co/GNhqCqfGkm\n"
     ]
    }
   ],
   "source": [
    "# We create an extractor object:\n",
    "extractor = twitter_setup()\n",
    "#tweets = extractor.user_timeline(screen_name=\"realDonaldTrump\", count=200,tweet_mode=\"extended\")\n",
    "    \n",
    "# We create a tweet list as follows:\n",
    "tweets = extractor.user_timeline(screen_name=\"realDonaldTrump\", count=200)\n",
    "print(\"Number of tweets extracted: {}.\\n\".format(len(tweets)))\n",
    "\n",
    "# We print the most recent 5 tweets:\n",
    "print(\"5 recent tweets:\\n\")\n",
    "for tweet in tweets[:2]:\n",
    "    print(tweet.text)\n"
   ]
  },
  {
   "cell_type": "code",
   "execution_count": 17,
   "metadata": {
    "scrolled": true
   },
   "outputs": [
    {
     "data": {
      "text/plain": [
       "'\\ndef processTweet2(tweet):\\n    # process the tweets\\n\\n    #Convert www.* or https?://* to URL\\n    tweet = re.sub(\\'((www\\\\.[^\\\\s]+)|(https?://[^\\\\s]+))\\',\\'URL\\',tweet)\\n    #Convert @username to AT_USER\\n    tweet = re.sub(\\'@[^\\\\s]+\\',\\'AT_USER\\',tweet)\\n    #Remove additional white spaces\\n    tweet = re.sub(\\'[\\\\s]+\\', \\' \\', tweet)\\n    #Replace #word with word\\n    tweet = re.sub(r\\'#([^\\\\s]+)\\', r\\'\\x01\\', tweet)\\n    #trim\\n    tweet = tweet.strip(\\'\\'\"\\')\\n    return tweet    \\nfor tweet in tweets:\\n    print(processTweet2(tweet))\\n'"
      ]
     },
     "execution_count": 17,
     "metadata": {},
     "output_type": "execute_result"
    }
   ],
   "source": [
    "'''\n",
    "def processTweet2(tweet):\n",
    "    # process the tweets\n",
    "\n",
    "    #Convert www.* or https?://* to URL\n",
    "    tweet = re.sub('((www\\.[^\\s]+)|(https?://[^\\s]+))','URL',tweet)\n",
    "    #Convert @username to AT_USER\n",
    "    tweet = re.sub('@[^\\s]+','AT_USER',tweet)\n",
    "    #Remove additional white spaces\n",
    "    tweet = re.sub('[\\s]+', ' ', tweet)\n",
    "    #Replace #word with word\n",
    "    tweet = re.sub(r'#([^\\s]+)', r'\\1', tweet)\n",
    "    #trim\n",
    "    tweet = tweet.strip('\\'\"')\n",
    "    return tweet    \n",
    "for tweet in tweets:\n",
    "    print(processTweet2(tweet))\n",
    "'''"
   ]
  },
  {
   "cell_type": "code",
   "execution_count": 18,
   "metadata": {},
   "outputs": [
    {
     "data": {
      "text/plain": [
       "\"\\n# we add some words to the stop word list\\ntexts, article = [], []\\nfor w in tweets:\\n    # if it's not a stop word or punctuation mark, add it to our article!\\n    if w.text != '\\n' :\\n        # we add the lematized version of the word\\n        article.append(w)\\n    # if it's a new line, it means we're onto our next document\\n    if w.text == '\\n':\\n        texts.append(article)\\n        article = []\\nbigram = gensim.models.Phrases(texts)\\ntexts = [bigram[line] for line in texts]\\ndictionary = Dictionary(texts)\\ncorpus = [dictionary.doc2bow(text) for text in texts]\\nlsimodel = LsiModel(corpus=corpus, num_topics=10, id2word=dictionary)\\nlsimodel.show_topics(num_topics=6)\\n\""
      ]
     },
     "execution_count": 18,
     "metadata": {},
     "output_type": "execute_result"
    }
   ],
   "source": [
    "'''\n",
    "# we add some words to the stop word list\n",
    "texts, article = [], []\n",
    "for w in tweets:\n",
    "    # if it's not a stop word or punctuation mark, add it to our article!\n",
    "    if w.text != '\\n' :\n",
    "        # we add the lematized version of the word\n",
    "        article.append(w)\n",
    "    # if it's a new line, it means we're onto our next document\n",
    "    if w.text == '\\n':\n",
    "        texts.append(article)\n",
    "        article = []\n",
    "bigram = gensim.models.Phrases(texts)\n",
    "texts = [bigram[line] for line in texts]\n",
    "dictionary = Dictionary(texts)\n",
    "corpus = [dictionary.doc2bow(text) for text in texts]\n",
    "lsimodel = LsiModel(corpus=corpus, num_topics=10, id2word=dictionary)\n",
    "lsimodel.show_topics(num_topics=6)\n",
    "'''"
   ]
  },
  {
   "cell_type": "code",
   "execution_count": 19,
   "metadata": {},
   "outputs": [
    {
     "name": "stdout",
     "output_type": "stream",
     "text": [
      "                                              Tweets  len                  ID  \\\n",
      "0  ...Follow the money! The spy was there early i...  139  999096013674680321   \n",
      "1  If the person placed very early into my campai...  140  999096011174924289   \n",
      "2  For the first time since Roe v. Wade, America ...  140  999087688983764992   \n",
      "3  It was my honor to welcome @NASCAR Cup Series ...  137  999010902472122368   \n",
      "4  Today, it was my great honor to welcome Presid...  134  998992271629570048   \n",
      "5  .@AsaHutchinson, the great Governor of Arkansa...  140  998704493335334912   \n",
      "6  Under our potential deal with China, they will...  135  998553122179084290   \n",
      "7  The Wall Street Journal asks, “WHERE IN THE WO...   91  998546786628395009   \n",
      "8  ...they then used to start an investigation ab...  140  998537117180588033   \n",
      "9  ....top of the FBI. Brennan started this entir...  140  998534123399663616   \n",
      "\n",
      "               Source   Likes    RTs  \n",
      "0  Twitter for iPhone   26181   8410  \n",
      "1  Twitter for iPhone   27072   8732  \n",
      "2  Twitter for iPhone   32546   8658  \n",
      "3  Twitter for iPhone   38104   7676  \n",
      "4  Twitter for iPhone   48328  10270  \n",
      "5  Twitter for iPhone   68347  17138  \n",
      "6  Twitter for iPhone   87330  19518  \n",
      "7  Twitter for iPhone  106678  25671  \n",
      "8  Twitter for iPhone   80049  21962  \n",
      "9  Twitter for iPhone   69758  20123  \n"
     ]
    }
   ],
   "source": [
    "data = pd.DataFrame(data=[tweet.text for tweet in tweets], columns=['Tweets'])\n",
    "data['len']  = np.array([len(tweet.text) for tweet in tweets])\n",
    "data['ID']   = np.array([tweet.id for tweet in tweets])\n",
    "data['Source'] = np.array([tweet.source for tweet in tweets])\n",
    "data['Likes']  = np.array([tweet.favorite_count for tweet in tweets])\n",
    "data['RTs']    = np.array([tweet.retweet_count for tweet in tweets])\n",
    "print(data.head(10))"
   ]
  },
  {
   "cell_type": "code",
   "execution_count": 20,
   "metadata": {},
   "outputs": [
    {
     "name": "stdout",
     "output_type": "stream",
     "text": [
      "361696\n",
      "Maximum Liked Tweet:  Thank you Kanye, very cool! https://t.co/vRIC87M21X\n",
      "108116\n",
      "Maximum   Thank you Kanye, very cool! https://t.co/vRIC87M21X\n",
      "Length Of Largest Tweet:  144\n",
      "Largest Tweet:  A Rigged System - They don’t want to turn over Documents to Congress. What are they afraid of? Why so much redactin… https://t.co/Wm7yAaO4Bl\n"
     ]
    }
   ],
   "source": [
    "mx_like=np.max(data[\"Likes\"])\n",
    "print(mx_like)\n",
    "indx=data[data[\"Likes\"]==mx_like].index[0]\n",
    "print(\"Maximum Liked Tweet: \",data[\"Tweets\"][indx])\n",
    "\n",
    "mx_rt=np.max(data[\"RTs\"])\n",
    "print(mx_rt)\n",
    "idx=data[data[\"RTs\"]==mx_rt].index[0]\n",
    "print(\"Maximum  \",data[\"Tweets\"][idx])\n",
    "\n",
    "mx_len=np.max(data[\"len\"])\n",
    "print(\"Length Of Largest Tweet: \",mx_len)\n",
    "print(\"Largest Tweet: \",data[\"Tweets\"][mx_len])"
   ]
  },
  {
   "cell_type": "code",
   "execution_count": 21,
   "metadata": {},
   "outputs": [
    {
     "data": {
      "image/png": "[encoded data removed]",
      "text/plain": [
       "<matplotlib.figure.Figure at 0x223df33a9e8>"
      ]
     },
     "metadata": {},
     "output_type": "display_data"
    }
   ],
   "source": [
    "explode = (0,0.5,0.6)\n",
    "colors=['#0038E2','#008DB8','#00AAAA']\n",
    "data.Source.value_counts().plot(kind=\"pie\",figsize=(7,6),explode=explode,colors = colors)\n",
    "plt.title(\"Sources\")\n",
    "plt.show()"
   ]
  },
  {
   "cell_type": "code",
   "execution_count": 22,
   "metadata": {},
   "outputs": [
    {
     "data": {
      "text/html": [
       "<div>\n",
       "<style>\n",
       "    .dataframe thead tr:only-child th {\n",
       "        text-align: right;\n",
       "    }\n",
       "\n",
       "    .dataframe thead th {\n",
       "        text-align: left;\n",
       "    }\n",
       "\n",
       "    .dataframe tbody tr th {\n",
       "        vertical-align: top;\n",
       "    }\n",
       "</style>\n",
       "<table border=\"1\" class=\"dataframe\">\n",
       "  <thead>\n",
       "    <tr style=\"text-align: right;\">\n",
       "      <th></th>\n",
       "      <th>Tweets</th>\n",
       "      <th>len</th>\n",
       "      <th>ID</th>\n",
       "      <th>Source</th>\n",
       "      <th>Likes</th>\n",
       "      <th>RTs</th>\n",
       "      <th>SA</th>\n",
       "    </tr>\n",
       "  </thead>\n",
       "  <tbody>\n",
       "    <tr>\n",
       "      <th>0</th>\n",
       "      <td>...Follow the money! The spy was there early i...</td>\n",
       "      <td>139</td>\n",
       "      <td>999096013674680321</td>\n",
       "      <td>Twitter for iPhone</td>\n",
       "      <td>26181</td>\n",
       "      <td>8410</td>\n",
       "      <td>1</td>\n",
       "    </tr>\n",
       "    <tr>\n",
       "      <th>1</th>\n",
       "      <td>If the person placed very early into my campai...</td>\n",
       "      <td>140</td>\n",
       "      <td>999096011174924289</td>\n",
       "      <td>Twitter for iPhone</td>\n",
       "      <td>27072</td>\n",
       "      <td>8732</td>\n",
       "      <td>-1</td>\n",
       "    </tr>\n",
       "    <tr>\n",
       "      <th>2</th>\n",
       "      <td>For the first time since Roe v. Wade, America ...</td>\n",
       "      <td>140</td>\n",
       "      <td>999087688983764992</td>\n",
       "      <td>Twitter for iPhone</td>\n",
       "      <td>32546</td>\n",
       "      <td>8658</td>\n",
       "      <td>1</td>\n",
       "    </tr>\n",
       "    <tr>\n",
       "      <th>3</th>\n",
       "      <td>It was my honor to welcome @NASCAR Cup Series ...</td>\n",
       "      <td>137</td>\n",
       "      <td>999010902472122368</td>\n",
       "      <td>Twitter for iPhone</td>\n",
       "      <td>38104</td>\n",
       "      <td>7676</td>\n",
       "      <td>1</td>\n",
       "    </tr>\n",
       "    <tr>\n",
       "      <th>4</th>\n",
       "      <td>Today, it was my great honor to welcome Presid...</td>\n",
       "      <td>134</td>\n",
       "      <td>998992271629570048</td>\n",
       "      <td>Twitter for iPhone</td>\n",
       "      <td>48328</td>\n",
       "      <td>10270</td>\n",
       "      <td>1</td>\n",
       "    </tr>\n",
       "    <tr>\n",
       "      <th>5</th>\n",
       "      <td>.@AsaHutchinson, the great Governor of Arkansa...</td>\n",
       "      <td>140</td>\n",
       "      <td>998704493335334912</td>\n",
       "      <td>Twitter for iPhone</td>\n",
       "      <td>68347</td>\n",
       "      <td>17138</td>\n",
       "      <td>1</td>\n",
       "    </tr>\n",
       "    <tr>\n",
       "      <th>6</th>\n",
       "      <td>Under our potential deal with China, they will...</td>\n",
       "      <td>135</td>\n",
       "      <td>998553122179084290</td>\n",
       "      <td>Twitter for iPhone</td>\n",
       "      <td>87330</td>\n",
       "      <td>19518</td>\n",
       "      <td>1</td>\n",
       "    </tr>\n",
       "    <tr>\n",
       "      <th>7</th>\n",
       "      <td>The Wall Street Journal asks, “WHERE IN THE WO...</td>\n",
       "      <td>91</td>\n",
       "      <td>998546786628395009</td>\n",
       "      <td>Twitter for iPhone</td>\n",
       "      <td>106678</td>\n",
       "      <td>25671</td>\n",
       "      <td>1</td>\n",
       "    </tr>\n",
       "    <tr>\n",
       "      <th>8</th>\n",
       "      <td>...they then used to start an investigation ab...</td>\n",
       "      <td>140</td>\n",
       "      <td>998537117180588033</td>\n",
       "      <td>Twitter for iPhone</td>\n",
       "      <td>80049</td>\n",
       "      <td>21962</td>\n",
       "      <td>1</td>\n",
       "    </tr>\n",
       "    <tr>\n",
       "      <th>9</th>\n",
       "      <td>....top of the FBI. Brennan started this entir...</td>\n",
       "      <td>140</td>\n",
       "      <td>998534123399663616</td>\n",
       "      <td>Twitter for iPhone</td>\n",
       "      <td>69758</td>\n",
       "      <td>20123</td>\n",
       "      <td>1</td>\n",
       "    </tr>\n",
       "  </tbody>\n",
       "</table>\n",
       "</div>"
      ],
      "text/plain": [
       "                                              Tweets  len                  ID  \\\n",
       "0  ...Follow the money! The spy was there early i...  139  999096013674680321   \n",
       "1  If the person placed very early into my campai...  140  999096011174924289   \n",
       "2  For the first time since Roe v. Wade, America ...  140  999087688983764992   \n",
       "3  It was my honor to welcome @NASCAR Cup Series ...  137  999010902472122368   \n",
       "4  Today, it was my great honor to welcome Presid...  134  998992271629570048   \n",
       "5  .@AsaHutchinson, the great Governor of Arkansa...  140  998704493335334912   \n",
       "6  Under our potential deal with China, they will...  135  998553122179084290   \n",
       "7  The Wall Street Journal asks, “WHERE IN THE WO...   91  998546786628395009   \n",
       "8  ...they then used to start an investigation ab...  140  998537117180588033   \n",
       "9  ....top of the FBI. Brennan started this entir...  140  998534123399663616   \n",
       "\n",
       "               Source   Likes    RTs  SA  \n",
       "0  Twitter for iPhone   26181   8410   1  \n",
       "1  Twitter for iPhone   27072   8732  -1  \n",
       "2  Twitter for iPhone   32546   8658   1  \n",
       "3  Twitter for iPhone   38104   7676   1  \n",
       "4  Twitter for iPhone   48328  10270   1  \n",
       "5  Twitter for iPhone   68347  17138   1  \n",
       "6  Twitter for iPhone   87330  19518   1  \n",
       "7  Twitter for iPhone  106678  25671   1  \n",
       "8  Twitter for iPhone   80049  21962   1  \n",
       "9  Twitter for iPhone   69758  20123   1  "
      ]
     },
     "metadata": {},
     "output_type": "display_data"
    }
   ],
   "source": [
    "def clean_text(tweet):\n",
    "    return ' '.join(re.sub(\"(@[A-Za-z0-9]+)|([^0-9A-Za-z \\t])|(\\w+:\\/\\/\\S+)\", \" \", tweet).split())\n",
    "def analize_sentiment(tweet):\n",
    "    '''\n",
    "    Utility function to classify the polarity of a tweet\n",
    "    using textblob.\n",
    "    '''\n",
    "    analysis = TextBlob(clean_text(tweet))\n",
    "    if analysis.sentiment.polarity > 0:\n",
    "        return 1\n",
    "    elif analysis.sentiment.polarity == 0:\n",
    "        return 0\n",
    "    else:\n",
    "        return -1\n",
    "# We create a column with the result of the analysis:\n",
    "data['SA'] = np.array([ analize_sentiment(tweet) for tweet in data['Tweets'] ])\n",
    "\n",
    "# We display the updated dataframe with the new column:\n",
    "display(data.head(10))"
   ]
  },
  {
   "cell_type": "code",
   "execution_count": null,
   "metadata": {
    "collapsed": true
   },
   "outputs": [],
   "source": []
  },
  {
   "cell_type": "code",
   "execution_count": 23,
   "metadata": {},
   "outputs": [
    {
     "data": {
      "image/png": "[encoded data removed]",
      "text/plain": [
       "<matplotlib.figure.Figure at 0x223df359710>"
      ]
     },
     "metadata": {},
     "output_type": "display_data"
    }
   ],
   "source": [
    "explode = (0,0.5,0.6)\n",
    "colors=['#696969','#A9A9A9',\"#D3D3D3\"]\n",
    "data.SA.value_counts().plot(kind=\"pie\",figsize=(7,6),explode=(0,0,0.09),shadow=True)\n",
    "plt.title(\"Sentimental Analysis\")\n",
    "plt.show()"
   ]
  },
  {
   "cell_type": "code",
   "execution_count": 24,
   "metadata": {},
   "outputs": [
    {
     "ename": "SyntaxError",
     "evalue": "invalid syntax (<ipython-input-24-5d6639ae8d60>, line 8)",
     "output_type": "error",
     "traceback": [
      "\u001b[1;36m  File \u001b[1;32m\"<ipython-input-24-5d6639ae8d60>\"\u001b[1;36m, line \u001b[1;32m8\u001b[0m\n\u001b[1;33m    punctuations = '''!()-[]{};:'\"\\,<>./?@#$%^&*_~//'''\u001b[0m\n\u001b[1;37m                                                       \n^\u001b[0m\n\u001b[1;31mSyntaxError\u001b[0m\u001b[1;31m:\u001b[0m invalid syntax\n"
     ]
    }
   ],
   "source": [
    "'''\n",
    "#Topic Modelling\n",
    "# we add some words to the stop word list\n",
    "from nltk.stem import WordNetLemmatizer\n",
    "from nltk import word_tokenize\n",
    "stopwords = nltk.corpus.stopwords.words('english')\n",
    "Lm=WordNetLemmatizer()\n",
    "punctuations = '''!()-[]{};:'\"\\,<>./?@#$%^&*_~//'''\n",
    "'''\n",
    "    t=[]\n",
    "def clean(tweet):\n",
    "    for w in data[\"Tweets\"]:\n",
    "        word=word_tokenize(w.lower())\n",
    "        #p=[i for i in word if i not in stopwords]  \n",
    "        #t=t.append(p)\n",
    "        #t=re.sub(\"(@[A-Za-z0-9]+)|([^0-9A-Za-z \\t])|(\\w+:\\/\\/\\S+)\",\" \",t)\n",
    "    return t\n",
    "#print(data.head())\n",
    "#data['Cleaned_Text']=([clean(tweet) for tweet in tweets])\n",
    " \n",
    "data[\"Cleaned_Tweets\"]=clean() \n",
    "data[\"Length_Of_Clean\"]=len(data.iloc[-1])\n",
    "print(data.head())\n",
    "'''"
   ]
  },
  {
   "cell_type": "code",
   "execution_count": 26,
   "metadata": {},
   "outputs": [
    {
     "name": "stdout",
     "output_type": "stream",
     "text": [
      "                                              Tweets  len                  ID  \\\n",
      "0  ...Follow the money! The spy was there early i...  139  999096013674680321   \n",
      "1  If the person placed very early into my campai...  140  999096011174924289   \n",
      "2  For the first time since Roe v. Wade, America ...  140  999087688983764992   \n",
      "3  It was my honor to welcome @NASCAR Cup Series ...  137  999010902472122368   \n",
      "4  Today, it was my great honor to welcome Presid...  134  998992271629570048   \n",
      "\n",
      "               Source  Likes    RTs  SA  \\\n",
      "0  Twitter for iPhone  26181   8410   1   \n",
      "1  Twitter for iPhone  27072   8732  -1   \n",
      "2  Twitter for iPhone  32546   8658   1   \n",
      "3  Twitter for iPhone  38104   7676   1   \n",
      "4  Twitter for iPhone  48328  10270   1   \n",
      "\n",
      "                                        Cleaned_Text  \n",
      "0  follow money spy early campaign yet never repo...  \n",
      "1  person placed early campaign spy put previous ...  \n",
      "2  first time since roe v wade america pro life p...  \n",
      "3  honor welcome nascar cup series champion marti...  \n",
      "4  today great honor welcome president moon jae i...  \n",
      "LDA Model\n",
      "[(0, '0.039*\"t\" + 0.037*\"https\" + 0.033*\"co\" + 0.006*\"president\" + 0.006*\"great\" + 0.006*\"congratulations\" + 0.006*\"much\" + 0.005*\"trump\" + 0.005*\"s\" + 0.005*\"u\"'), (1, '0.028*\"t\" + 0.025*\"co\" + 0.024*\"https\" + 0.010*\"great\" + 0.007*\"house\" + 0.005*\"trump\" + 0.005*\"campaign\" + 0.005*\"rt\" + 0.004*\"china\" + 0.004*\"really\"'), (2, '0.051*\"co\" + 0.050*\"https\" + 0.048*\"t\" + 0.018*\"great\" + 0.006*\"president\" + 0.006*\"china\" + 0.005*\"today\" + 0.005*\"house\" + 0.004*\"honor\" + 0.004*\"witch\"')]\n",
      "LSI Model\n",
      "[(0, '-0.561*\"t\" + -0.545*\"co\" + -0.545*\"https\" + -0.149*\"great\" + -0.068*\"president\" + -0.057*\"house\" + -0.048*\"china\" + -0.048*\"today\" + -0.036*\"campaign\" + -0.035*\"s\"'), (1, '-0.829*\"great\" + -0.151*\"people\" + -0.106*\"honor\" + -0.103*\"today\" + 0.091*\"t\" + -0.088*\"well\" + 0.078*\"campaign\" + 0.078*\"co\" + -0.077*\"big\" + 0.076*\"https\"'), (2, '0.528*\"president\" + 0.266*\"life\" + 0.231*\"china\" + 0.228*\"pro\" + 0.175*\"time\" + 0.161*\"today\" + -0.138*\"witch\" + -0.124*\"hunt\" + 0.120*\"much\" + -0.119*\"great\"'), (3, '0.374*\"s\" + -0.372*\"house\" + 0.357*\"u\" + 0.220*\"china\" + -0.179*\"life\" + -0.177*\"white\" + -0.153*\"pro\" + -0.134*\"today\" + 0.130*\"amp\" + -0.116*\"witch\"'), (4, '0.414*\"house\" + 0.326*\"s\" + 0.315*\"u\" + 0.178*\"white\" + 0.176*\"life\" + 0.147*\"witch\" + 0.141*\"pro\" + 0.120*\"hunt\" + -0.115*\"trade\" + 0.112*\"much\"')]\n",
      "HDP Model\n",
      "[(0, '0.007*wrongfully + 0.005*comey + 0.004*define + 0.004*happen + 0.004*french + 0.004*turn + 0.004*x5ee7jeypn + 0.003*arizona + 0.003*program + 0.003*week + 0.003*shows + 0.003*years + 0.003*drugs + 0.003*unending + 0.003*genesis + 0.003*wpfk40ksdi + 0.003*honor + 0.003*past + 0.003*violation + 0.003*leaked'), (1, '0.005*purchase + 0.005*3pvenkifuo + 0.004*jobs + 0.004*leaving + 0.004*heavy + 0.004*true + 0.004*series + 0.004*media + 0.004*examiner + 0.004*hit + 0.004*long + 0.004*vets + 0.003*evidence + 0.003*merkel + 0.003*17 + 0.003*angela + 0.003*men + 0.003*article + 0.003*250 + 0.003*foqq0iazjy'), (2, '0.007*andrews + 0.006*home + 0.005*want + 0.005*secret + 0.005*b6dqmsjl1d + 0.005*vets + 0.004*tmz14tfqht + 0.004*5hth07sdgy + 0.004*summit + 0.004*flotus + 0.004*ha + 0.004*detail + 0.004*hillary + 0.004*lying + 0.004*putting + 0.004*values + 0.003*ohjw8dycot + 0.003*n4809kuvx3 + 0.003*grenell + 0.003*right'), (3, '0.005*healthcare + 0.005*found + 0.004*usembassyjerusalem + 0.004*calls + 0.004*freshman + 0.004*evening + 0.004*cool + 0.004*ha + 0.004*obstructing + 0.004*attorney + 0.004*arkansas + 0.004*simple + 0.004*argentina + 0.004*give + 0.003*federal + 0.003*friends + 0.003*conflicted + 0.003*yoaafbrwlu + 0.003*forg + 0.003*next'), (4, '0.008*cap + 0.005*committee + 0.004*series + 0.004*only + 0.004*macron + 0.004*w + 0.004*marks + 0.004*tribute + 0.004*pennsylvania + 0.004*frame + 0.003*whether + 0.003*senator + 0.003*two + 0.003*guests + 0.003*argentin + 0.003*top + 0.003*finds + 0.003*201 + 0.003*longer + 0.003*eyes'), (5, '0.004*dewine + 0.004*true + 0.004*captured + 0.004*member + 0.004*wall + 0.004*crazy + 0.004*only + 0.004*given + 0.004*continue + 0.004*gift + 0.004*blessed + 0.004*historic + 0.004*america + 0.004*worth + 0.004*hilton + 0.004*andre + 0.004*witch + 0.004*hosting + 0.003*n4izmswbmr + 0.003*jr'), (6, '0.006*drug + 0.005*virginia + 0.005*join + 0.004*takebackday + 0.004*portion + 0.004*forced + 0.004*thank + 0.004*kim + 0.004*landing + 0.004*massive + 0.004*advantage + 0.004*run + 0.003*violation + 0.003*close + 0.003*clear + 0.003*gina + 0.003*send + 0.003*people + 0.003*germany + 0.003*t'), (7, '0.006*colin + 0.005*cr + 0.005*gjpvxy5gf6 + 0.005*things + 0.004*jtq9veflwz + 0.004*liberals + 0.004*recently + 0.004*middle + 0.004*vets + 0.004*allegations + 0.004*amywk4sbd7 + 0.004*victory + 0.004*mike + 0.004*vice + 0.003*live + 0.003*nytimes + 0.003*life + 0.003*created + 0.003*candidates + 0.003*t'), (8, '0.007*flyin + 0.005*congrats + 0.005*million + 0.005*happy + 0.004*foqq0iazjy + 0.004*cortessteve + 0.004*common + 0.004*signed + 0.004*indic + 0.004*love + 0.004*entire + 0.003*liu + 0.003*n1xj9lsv9d + 0.003*way + 0.003*8kwpvogn8b + 0.003*andypuzder + 0.003*ver + 0.003*l0gt4rvajo + 0.003*sad + 0.003*journal'), (9, '0.005*god + 0.004*armedforcesday + 0.004*weak + 0.004*mid + 0.004*prior + 0.004*many + 0.004*because + 0.004*tha + 0.004*service + 0.004*behalf + 0.004*paris + 0.003*questions + 0.003*ugbwbgszel + 0.003*stay + 0.003*way + 0.003*tremendous + 0.003*day + 0.003*barack + 0.003*panicking + 0.003*crime'), (10, '0.006*champion + 0.005*econom + 0.005*candidates + 0.005*senator + 0.005*2026 + 0.004*30 + 0.004*done + 0.004*tonight + 0.004*men + 0.004*stjude + 0.003*wanted + 0.003*redemption + 0.003*rryzmm5yan + 0.003*aiwl3bxrap + 0.003*john + 0.003*covered + 0.003*guests + 0.003*ahead + 0.003*finally + 0.003*pleased'), (11, '0.008*previous + 0.005*playing + 0.005*deleted + 0.005*story + 0.005*security + 0.005*understands + 0.005*decision + 0.004*passing + 0.004*states + 0.004*gk15e2oygs + 0.004*cite + 0.004*forget + 0.004*spied + 0.004*xmbwzneups + 0.004*celebrate + 0.004*cryin + 0.004*everyone + 0.004*30 + 0.003*6 + 0.003*democratic'), (12, '0.005*tot + 0.005*p + 0.004*message + 0.004*like + 0.004*includ + 0.004*4gcodveiqv + 0.004*affair + 0.003*american + 0.003*funding + 0.003*rose + 0.003*border + 0.003*lying + 0.003*rt + 0.003*ridiculous + 0.003*indic + 0.003*o3spryckkc + 0.003*week + 0.003*hunt + 0.003*podesta + 0.003*somebody'), (13, '0.005*used + 0.005*5jkrlotcmd + 0.005*stjude + 0.005*incredible + 0.005*colin + 0.004*life + 0.004*democratic + 0.004*running + 0.004*countries + 0.004*american + 0.004*conflicted + 0.004*pay + 0.004*trump + 0.004*long + 0.004*weak + 0.004*germany + 0.003*macri + 0.003*hilton + 0.003*heading + 0.003*media'), (14, '0.006*always + 0.006*dewine + 0.005*crashed + 0.005*phony + 0.005*puerto + 0.004*bo + 0.004*nextrevfnc + 0.004*begin + 0.004*historic + 0.004*send + 0.003*aid + 0.003*machine + 0.003*critics + 0.003*difference + 0.003*reed + 0.003*massive + 0.003*crew + 0.003*human + 0.003*earnhardt + 0.003*amgen'), (15, '0.006*angry + 0.006*40 + 0.005*1 + 0.004*night + 0.004*suffering + 0.004*enforcement + 0.004*mother + 0.004*typically + 0.004*cortessteve + 0.004*medical + 0.004*coordinate + 0.004*team + 0.004*democrats + 0.004*premier + 0.003*point + 0.003*chinese + 0.003*see + 0.003*scheme + 0.003*2026 + 0.003*morning'), (16, '0.005*mother + 0.005*driving + 0.005*melania + 0.005*chance + 0.004*poll + 0.004*the + 0.004*liberals + 0.003*center + 0.003*get + 0.003*packed + 0.003*intrusion + 0.003*stay + 0.003*celebration + 0.003*find + 0.003*home + 0.003*lhm2fruys2 + 0.003*qrxwnjpf3k + 0.003*found + 0.003*top + 0.003*hisaci95cb'), (17, '0.005*releasing + 0.004*making + 0.004*clear + 0.004*etc + 0.004*america + 0.004*dead + 0.004*easily + 0.004*french + 0.004*macron + 0.004*stand + 0.004*years + 0.003*state + 0.003*brigitte + 0.003*leaked + 0.003*disgraced + 0.003*desired + 0.003*wu8jfuwlji + 0.003*terror + 0.003*sgt + 0.003*enforcement'), (18, '0.008*prescription + 0.006*todd + 0.005*dinner + 0.005*mid + 0.005*grenell + 0.005*behaving + 0.004*timeless + 0.004*lesko + 0.004*n3djwdy2am + 0.004*base + 0.004*rryzmm5yan + 0.004*unwarranted + 0.004*infiltrating + 0.004*argentina + 0.004*brennan + 0.004*tester + 0.004*ojgzv5s6i7 + 0.003*important + 0.003*full + 0.003*commander'), (19, '0.005*least + 0.004*anti + 0.004*community + 0.004*roe + 0.004*america + 0.004*b5dfuabn5q + 0.004*dolknr8zru + 0.004*corruption + 0.004*air + 0.004*morning + 0.003*leaks + 0.003*fvi18wtsdx + 0.003*sourc + 0.003*ballot + 0.003*refus + 0.003*court + 0.003*pro + 0.003*jong + 0.003*cxzh2q5pyf + 0.003*new')]\n"
     ]
    }
   ],
   "source": [
    "from nltk.stem import WordNetLemmatizer\n",
    "from nltk import word_tokenize\n",
    "stopwords = nltk.corpus.stopwords.words('english')\n",
    "Lm=WordNetLemmatizer()\n",
    "punctuations = '''!()-[]{};:'\"\\,<>./?@#$%^&*_~//'''\n",
    "t1=[]\n",
    "\n",
    "def clean(tweet):\n",
    "    t=word_tokenize(tweet.lower())\n",
    "    a=[i for i in t if i not in stopwords]\n",
    "    a=\" \".join(a)\n",
    "    b=' '.join(re.sub(\"(@[A-Za-z0-9]+)|([^0-9A-Za-z \\t])|(\\w+:\\/\\/\\S+)\", \" \", a).split())\n",
    "    return b       \n",
    "#clean(data[\"Tweets\"])\n",
    "data['Cleaned_Text']=[clean(tweet) for tweet in data[\"Tweets\"]]\n",
    "print(data.head())  \n",
    "article=[i for i in data[\"Cleaned_Text\"]]\n",
    "doc_clean = [doc.split() for doc in article]\n",
    "#print(doc_clean)\n",
    "import gensim\n",
    "from gensim import corpora\n",
    "# Creating the term dictionary of our courpus, where every unique term is assigned an index.\\\n",
    "dictionary = corpora.Dictionary(doc_clean)\n",
    "\n",
    "# Converting list of documents (corpus) into Document Term Matrix using dictionary prepared above.\n",
    "doc_term_matrix = [dictionary.doc2bow(doc) for doc in doc_clean]\n",
    "\n",
    "# Running and Trainign LDA model on the document term matrix.\n",
    "ldamodel = LdaModel(doc_term_matrix, num_topics=3, id2word = dictionary)\n",
    "print(\"LDA Model\")\n",
    "print(ldamodel.print_topics(num_topics=3, num_words=10))\n",
    "lsimodel = LsiModel(doc_term_matrix, num_topics=10, id2word=dictionary)\n",
    "print(\"LSI Model\")\n",
    "print(lsimodel.show_topics(num_topics=5))\n",
    "hdpmodel = HdpModel(doc_term_matrix, id2word=dictionary)\n",
    "print(\"HDP Model\")\n",
    "print(hdpmodel.show_topics())"
   ]
  },
  {
   "cell_type": "code",
   "execution_count": 13,
   "metadata": {},
   "outputs": [
    {
     "data": {
      "text/plain": [
       "'\\ndoc1 = \"Sugar is bad to consume. My sister likes to have sugar, but not my father.\"\\ndoc2 = \"My father spends a lot of time driving my sister around to dance practice.\"\\ndoc3 = \"Doctors suggest that driving may cause increased stress and blood pressure.\"\\ndoc4 = \"Sometimes I feel pressure to perform well at school, but my father never seems to drive my sister to do better.\"\\ndoc5 = \"Health experts say that Sugar is not good for your lifestyle.\"\\n\\n# compile documents\\ndoc_complete = [doc1, doc2, doc3, doc4, doc5]\\n\\nfrom nltk.corpus import stopwords \\nfrom nltk.stem.wordnet import WordNetLemmatizer\\nimport string\\nstop = set(stopwords.words(\\'english\\'))\\nexclude = set(string.punctuation) \\nlemma = WordNetLemmatizer()\\ndef clean(doc):\\n    stop_free = \" \".join([i for i in doc.lower().split() if i not in stop])\\n    punc_free = \\'\\'.join(ch for ch in stop_free if ch not in exclude)\\n    normalized = \" \".join(lemma.lemmatize(word) for word in punc_free.split())\\n    return normalized\\n\\ndoc_clean = [clean(doc).split() for doc in doc_complete] \\nprint(doc_clean)\\n'"
      ]
     },
     "execution_count": 13,
     "metadata": {},
     "output_type": "execute_result"
    }
   ],
   "source": [
    "'''\n",
    "doc1 = \"Sugar is bad to consume. My sister likes to have sugar, but not my father.\"\n",
    "doc2 = \"My father spends a lot of time driving my sister around to dance practice.\"\n",
    "doc3 = \"Doctors suggest that driving may cause increased stress and blood pressure.\"\n",
    "doc4 = \"Sometimes I feel pressure to perform well at school, but my father never seems to drive my sister to do better.\"\n",
    "doc5 = \"Health experts say that Sugar is not good for your lifestyle.\"\n",
    "\n",
    "# compile documents\n",
    "doc_complete = [doc1, doc2, doc3, doc4, doc5]\n",
    "\n",
    "from nltk.corpus import stopwords \n",
    "from nltk.stem.wordnet import WordNetLemmatizer\n",
    "import string\n",
    "stop = set(stopwords.words('english'))\n",
    "exclude = set(string.punctuation) \n",
    "lemma = WordNetLemmatizer()\n",
    "def clean(doc):\n",
    "    stop_free = \" \".join([i for i in doc.lower().split() if i not in stop])\n",
    "    punc_free = ''.join(ch for ch in stop_free if ch not in exclude)\n",
    "    normalized = \" \".join(lemma.lemmatize(word) for word in punc_free.split())\n",
    "    return normalized\n",
    "\n",
    "doc_clean = [clean(doc).split() for doc in doc_complete] \n",
    "print(doc_clean)\n",
    "'''"
   ]
  },
  {
   "cell_type": "code",
   "execution_count": null,
   "metadata": {
    "collapsed": true
   },
   "outputs": [],
   "source": []
  },
  {
   "cell_type": "code",
   "execution_count": null,
   "metadata": {
    "collapsed": true
   },
   "outputs": [],
   "source": []
  }
 ],
 "metadata": {
  "kernelspec": {
   "display_name": "Python 3",
   "language": "python",
   "name": "python3"
  },
  "language_info": {
   "codemirror_mode": {
    "name": "ipython",
    "version": 3
   },
   "file_extension": ".py",
   "mimetype": "text/x-python",
   "name": "python",
   "nbconvert_exporter": "python",
   "pygments_lexer": "ipython3",
   "version": "3.6.3"
  }
 },
 "nbformat": 4,
 "nbformat_minor": 2
}
